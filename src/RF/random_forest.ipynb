{
 "cells": [
  {
   "cell_type": "markdown",
   "metadata": {},
   "source": [
    "# Random Forest\n",
    "\n",
    "## Data Preparation"
   ]
  },
  {
   "cell_type": "code",
   "execution_count": 22,
   "metadata": {},
   "outputs": [],
   "source": [
    "import pandas as pd\n",
    "import numpy as np\n",
    "from sklearn.model_selection import train_test_split\n",
    "from sklearn.ensemble import RandomForestRegressor\n",
    "from sklearn.metrics import mean_squared_error"
   ]
  },
  {
   "cell_type": "code",
   "execution_count": 2,
   "metadata": {},
   "outputs": [
    {
     "data": {
      "text/html": [
       "<div>\n",
       "<style scoped>\n",
       "    .dataframe tbody tr th:only-of-type {\n",
       "        vertical-align: middle;\n",
       "    }\n",
       "\n",
       "    .dataframe tbody tr th {\n",
       "        vertical-align: top;\n",
       "    }\n",
       "\n",
       "    .dataframe thead th {\n",
       "        text-align: right;\n",
       "    }\n",
       "</style>\n",
       "<table border=\"1\" class=\"dataframe\">\n",
       "  <thead>\n",
       "    <tr style=\"text-align: right;\">\n",
       "      <th></th>\n",
       "      <th>Standort</th>\n",
       "      <th>Date</th>\n",
       "      <th>Time</th>\n",
       "      <th>Datetime</th>\n",
       "      <th>VELO_IN</th>\n",
       "      <th>VELO_OUT</th>\n",
       "      <th>FUSS_IN</th>\n",
       "      <th>FUSS_OUT</th>\n",
       "      <th>Ost</th>\n",
       "      <th>Nord</th>\n",
       "      <th>...</th>\n",
       "      <th>WVv [m/s]</th>\n",
       "      <th>p [hPa]</th>\n",
       "      <th>Year</th>\n",
       "      <th>AnzBestWir</th>\n",
       "      <th>bezeichnung</th>\n",
       "      <th>fk_zaehler</th>\n",
       "      <th>richtung_in</th>\n",
       "      <th>richtung_out</th>\n",
       "      <th>korrekturfaktor</th>\n",
       "      <th>geometry</th>\n",
       "    </tr>\n",
       "  </thead>\n",
       "  <tbody>\n",
       "    <tr>\n",
       "      <th>0</th>\n",
       "      <td>20</td>\n",
       "      <td>2023-01-01</td>\n",
       "      <td>00:00</td>\n",
       "      <td>2023-01-01 00:00</td>\n",
       "      <td>0.0</td>\n",
       "      <td>0.0</td>\n",
       "      <td>46.0</td>\n",
       "      <td>31.0</td>\n",
       "      <td>2682689</td>\n",
       "      <td>1247735</td>\n",
       "      <td>...</td>\n",
       "      <td>0.873333</td>\n",
       "      <td>972.443333</td>\n",
       "      <td>2023.0</td>\n",
       "      <td>447082.0</td>\n",
       "      <td>Militärbrücke</td>\n",
       "      <td>U15G3063864</td>\n",
       "      <td>Löwenplatz</td>\n",
       "      <td>Langstrasse</td>\n",
       "      <td>0.58</td>\n",
       "      <td>POINT (2682689 1247734.9)</td>\n",
       "    </tr>\n",
       "    <tr>\n",
       "      <th>1</th>\n",
       "      <td>20</td>\n",
       "      <td>2023-01-01</td>\n",
       "      <td>01:00</td>\n",
       "      <td>2023-01-01 01:00</td>\n",
       "      <td>0.0</td>\n",
       "      <td>0.0</td>\n",
       "      <td>43.0</td>\n",
       "      <td>94.0</td>\n",
       "      <td>2682689</td>\n",
       "      <td>1247735</td>\n",
       "      <td>...</td>\n",
       "      <td>1.490000</td>\n",
       "      <td>972.676667</td>\n",
       "      <td>2023.0</td>\n",
       "      <td>447082.0</td>\n",
       "      <td>Militärbrücke</td>\n",
       "      <td>U15G3063864</td>\n",
       "      <td>Löwenplatz</td>\n",
       "      <td>Langstrasse</td>\n",
       "      <td>0.58</td>\n",
       "      <td>POINT (2682689 1247734.9)</td>\n",
       "    </tr>\n",
       "    <tr>\n",
       "      <th>2</th>\n",
       "      <td>20</td>\n",
       "      <td>2023-01-01</td>\n",
       "      <td>02:00</td>\n",
       "      <td>2023-01-01 02:00</td>\n",
       "      <td>0.0</td>\n",
       "      <td>0.0</td>\n",
       "      <td>36.0</td>\n",
       "      <td>27.0</td>\n",
       "      <td>2682689</td>\n",
       "      <td>1247735</td>\n",
       "      <td>...</td>\n",
       "      <td>0.593333</td>\n",
       "      <td>972.620000</td>\n",
       "      <td>2023.0</td>\n",
       "      <td>447082.0</td>\n",
       "      <td>Militärbrücke</td>\n",
       "      <td>U15G3063864</td>\n",
       "      <td>Löwenplatz</td>\n",
       "      <td>Langstrasse</td>\n",
       "      <td>0.58</td>\n",
       "      <td>POINT (2682689 1247734.9)</td>\n",
       "    </tr>\n",
       "    <tr>\n",
       "      <th>3</th>\n",
       "      <td>20</td>\n",
       "      <td>2023-01-01</td>\n",
       "      <td>03:00</td>\n",
       "      <td>2023-01-01 03:00</td>\n",
       "      <td>0.0</td>\n",
       "      <td>0.0</td>\n",
       "      <td>22.0</td>\n",
       "      <td>27.0</td>\n",
       "      <td>2682689</td>\n",
       "      <td>1247735</td>\n",
       "      <td>...</td>\n",
       "      <td>0.670000</td>\n",
       "      <td>972.910000</td>\n",
       "      <td>2023.0</td>\n",
       "      <td>447082.0</td>\n",
       "      <td>Militärbrücke</td>\n",
       "      <td>U15G3063864</td>\n",
       "      <td>Löwenplatz</td>\n",
       "      <td>Langstrasse</td>\n",
       "      <td>0.58</td>\n",
       "      <td>POINT (2682689 1247734.9)</td>\n",
       "    </tr>\n",
       "    <tr>\n",
       "      <th>4</th>\n",
       "      <td>20</td>\n",
       "      <td>2023-01-01</td>\n",
       "      <td>04:00</td>\n",
       "      <td>2023-01-01 04:00</td>\n",
       "      <td>0.0</td>\n",
       "      <td>0.0</td>\n",
       "      <td>11.0</td>\n",
       "      <td>33.0</td>\n",
       "      <td>2682689</td>\n",
       "      <td>1247735</td>\n",
       "      <td>...</td>\n",
       "      <td>1.420000</td>\n",
       "      <td>972.956667</td>\n",
       "      <td>2023.0</td>\n",
       "      <td>447082.0</td>\n",
       "      <td>Militärbrücke</td>\n",
       "      <td>U15G3063864</td>\n",
       "      <td>Löwenplatz</td>\n",
       "      <td>Langstrasse</td>\n",
       "      <td>0.58</td>\n",
       "      <td>POINT (2682689 1247734.9)</td>\n",
       "    </tr>\n",
       "  </tbody>\n",
       "</table>\n",
       "<p>5 rows × 26 columns</p>\n",
       "</div>"
      ],
      "text/plain": [
       "   Standort        Date   Time          Datetime  VELO_IN  VELO_OUT  FUSS_IN  \\\n",
       "0        20  2023-01-01  00:00  2023-01-01 00:00      0.0       0.0     46.0   \n",
       "1        20  2023-01-01  01:00  2023-01-01 01:00      0.0       0.0     43.0   \n",
       "2        20  2023-01-01  02:00  2023-01-01 02:00      0.0       0.0     36.0   \n",
       "3        20  2023-01-01  03:00  2023-01-01 03:00      0.0       0.0     22.0   \n",
       "4        20  2023-01-01  04:00  2023-01-01 04:00      0.0       0.0     11.0   \n",
       "\n",
       "   FUSS_OUT      Ost     Nord  ...  WVv [m/s]     p [hPa]    Year  AnzBestWir  \\\n",
       "0      31.0  2682689  1247735  ...   0.873333  972.443333  2023.0    447082.0   \n",
       "1      94.0  2682689  1247735  ...   1.490000  972.676667  2023.0    447082.0   \n",
       "2      27.0  2682689  1247735  ...   0.593333  972.620000  2023.0    447082.0   \n",
       "3      27.0  2682689  1247735  ...   0.670000  972.910000  2023.0    447082.0   \n",
       "4      33.0  2682689  1247735  ...   1.420000  972.956667  2023.0    447082.0   \n",
       "\n",
       "     bezeichnung   fk_zaehler  richtung_in  richtung_out  korrekturfaktor  \\\n",
       "0  Militärbrücke  U15G3063864   Löwenplatz   Langstrasse             0.58   \n",
       "1  Militärbrücke  U15G3063864   Löwenplatz   Langstrasse             0.58   \n",
       "2  Militärbrücke  U15G3063864   Löwenplatz   Langstrasse             0.58   \n",
       "3  Militärbrücke  U15G3063864   Löwenplatz   Langstrasse             0.58   \n",
       "4  Militärbrücke  U15G3063864   Löwenplatz   Langstrasse             0.58   \n",
       "\n",
       "                    geometry  \n",
       "0  POINT (2682689 1247734.9)  \n",
       "1  POINT (2682689 1247734.9)  \n",
       "2  POINT (2682689 1247734.9)  \n",
       "3  POINT (2682689 1247734.9)  \n",
       "4  POINT (2682689 1247734.9)  \n",
       "\n",
       "[5 rows x 26 columns]"
      ]
     },
     "execution_count": 2,
     "metadata": {},
     "output_type": "execute_result"
    }
   ],
   "source": [
    "# import the prepared data set\n",
    "dat = pd.read_csv('../../results/df_agg_hourly.csv')\n",
    "\n",
    "# Check the data\n",
    "dat.head()"
   ]
  },
  {
   "cell_type": "code",
   "execution_count": 3,
   "metadata": {},
   "outputs": [
    {
     "data": {
      "text/plain": [
       "Index(['Standort', 'Date', 'Time', 'Datetime', 'VELO_IN', 'VELO_OUT',\n",
       "       'FUSS_IN', 'FUSS_OUT', 'Ost', 'Nord', 'Hr [%Hr]', 'RainDur [min]',\n",
       "       'StrGlo [W/m2]', 'T [°C]', 'WD [°]', 'WVs [m/s]', 'WVv [m/s]',\n",
       "       'p [hPa]', 'Year', 'AnzBestWir', 'bezeichnung', 'fk_zaehler',\n",
       "       'richtung_in', 'richtung_out', 'korrekturfaktor', 'geometry'],\n",
       "      dtype='object')"
      ]
     },
     "execution_count": 3,
     "metadata": {},
     "output_type": "execute_result"
    }
   ],
   "source": [
    "# What are the different variables\n",
    "dat.columns"
   ]
  },
  {
   "cell_type": "markdown",
   "metadata": {},
   "source": [
    "### Extract Hours and Months from the Data"
   ]
  },
  {
   "cell_type": "code",
   "execution_count": 4,
   "metadata": {},
   "outputs": [
    {
     "name": "stderr",
     "output_type": "stream",
     "text": [
      "/var/folders/m_/kjymw9sd0yn2wk8yjj853n_c0000gn/T/ipykernel_83370/4093744424.py:2: UserWarning: Could not infer format, so each element will be parsed individually, falling back to `dateutil`. To ensure parsing is consistent and as-expected, please specify a format.\n",
      "  dat['hour'] = pd.to_datetime(dat['Time']).dt.hour\n"
     ]
    },
    {
     "data": {
      "text/plain": [
       "0    0\n",
       "1    1\n",
       "2    2\n",
       "3    3\n",
       "4    4\n",
       "Name: hour, dtype: int32"
      ]
     },
     "execution_count": 4,
     "metadata": {},
     "output_type": "execute_result"
    }
   ],
   "source": [
    "# Extract the hours from the time column\n",
    "dat['hour'] = pd.to_datetime(dat['Time']).dt.hour\n",
    "\n",
    "# Check the data\n",
    "dat['hour'].head()"
   ]
  },
  {
   "cell_type": "code",
   "execution_count": 5,
   "metadata": {},
   "outputs": [
    {
     "data": {
      "text/plain": [
       "0    1\n",
       "1    1\n",
       "2    1\n",
       "3    1\n",
       "4    1\n",
       "Name: month, dtype: int32"
      ]
     },
     "execution_count": 5,
     "metadata": {},
     "output_type": "execute_result"
    }
   ],
   "source": [
    "# Get the month from the Date column\n",
    "dat['month'] = pd.to_datetime(dat['Date']).dt.month\n",
    "\n",
    "# Check the data\n",
    "dat['month'].head()"
   ]
  },
  {
   "cell_type": "markdown",
   "metadata": {},
   "source": [
    "### Total Counts for the Bike and Foot Traffic"
   ]
  },
  {
   "cell_type": "code",
   "execution_count": 6,
   "metadata": {},
   "outputs": [],
   "source": [
    "# Add up the bycicle and pedestrian counts\n",
    "dat['bike_tot'] = dat['VELO_IN'] + dat['VELO_OUT']\n",
    "dat['ped_tot'] = dat['FUSS_IN'] + dat['FUSS_OUT']"
   ]
  },
  {
   "cell_type": "markdown",
   "metadata": {},
   "source": [
    "### NA handling"
   ]
  },
  {
   "cell_type": "code",
   "execution_count": 7,
   "metadata": {},
   "outputs": [
    {
     "name": "stdout",
     "output_type": "stream",
     "text": [
      "Standort              0\n",
      "Date                  0\n",
      "Time                  0\n",
      "Datetime              0\n",
      "VELO_IN               0\n",
      "VELO_OUT              0\n",
      "FUSS_IN               0\n",
      "FUSS_OUT              0\n",
      "Ost                   0\n",
      "Nord                  0\n",
      "Hr [%Hr]              0\n",
      "RainDur [min]         0\n",
      "StrGlo [W/m2]         0\n",
      "T [°C]                0\n",
      "WD [°]                0\n",
      "WVs [m/s]             0\n",
      "WVv [m/s]             0\n",
      "p [hPa]               0\n",
      "Year                  0\n",
      "AnzBestWir            0\n",
      "bezeichnung           0\n",
      "fk_zaehler            0\n",
      "richtung_in           0\n",
      "richtung_out       3791\n",
      "korrekturfaktor       0\n",
      "geometry              0\n",
      "hour                  0\n",
      "month                 0\n",
      "bike_tot              0\n",
      "ped_tot               0\n",
      "dtype: int64\n"
     ]
    }
   ],
   "source": [
    "# Are there NAs in the data?\n",
    "print(dat.isna().sum())"
   ]
  },
  {
   "cell_type": "code",
   "execution_count": 8,
   "metadata": {},
   "outputs": [
    {
     "data": {
      "text/plain": [
       "Standort             int64\n",
       "Date                object\n",
       "Time                object\n",
       "Datetime            object\n",
       "VELO_IN            float64\n",
       "VELO_OUT           float64\n",
       "FUSS_IN            float64\n",
       "FUSS_OUT           float64\n",
       "Ost                  int64\n",
       "Nord                 int64\n",
       "Hr [%Hr]           float64\n",
       "RainDur [min]      float64\n",
       "StrGlo [W/m2]      float64\n",
       "T [°C]             float64\n",
       "WD [°]             float64\n",
       "WVs [m/s]          float64\n",
       "WVv [m/s]          float64\n",
       "p [hPa]            float64\n",
       "Year               float64\n",
       "AnzBestWir         float64\n",
       "bezeichnung         object\n",
       "fk_zaehler          object\n",
       "richtung_in         object\n",
       "richtung_out        object\n",
       "korrekturfaktor    float64\n",
       "geometry            object\n",
       "hour                 int32\n",
       "month                int32\n",
       "bike_tot           float64\n",
       "ped_tot            float64\n",
       "dtype: object"
      ]
     },
     "execution_count": 8,
     "metadata": {},
     "output_type": "execute_result"
    }
   ],
   "source": [
    "# Let's have a look at the data types\n",
    "dat.dtypes"
   ]
  },
  {
   "cell_type": "code",
   "execution_count": 12,
   "metadata": {},
   "outputs": [],
   "source": [
    "dat.columns\n",
    "\n",
    "# Make Standort a categorical variable\n",
    "dat['Standort'] = dat['Standort'].astype('category')\n",
    "\n",
    "# Select the variables we want to use\n",
    "X = dat[['Standort', 'hour', 'month', 'RainDur [min]', 'T [°C]', 'Hr [%Hr]', 'WD [°]', 'WVs [m/s]', 'p [hPa]']]\n",
    "y_bike = dat['bike_tot']\n",
    "y_ped = dat['ped_tot']"
   ]
  },
  {
   "cell_type": "markdown",
   "metadata": {},
   "source": [
    "## Model for Bike Traffic"
   ]
  },
  {
   "cell_type": "markdown",
   "metadata": {},
   "source": [
    "First we have to define the target variable and the features."
   ]
  },
  {
   "cell_type": "code",
   "execution_count": 13,
   "metadata": {},
   "outputs": [
    {
     "name": "stdout",
     "output_type": "stream",
     "text": [
      "(154753, 9) (66323, 9) (154753,) (66323,)\n"
     ]
    }
   ],
   "source": [
    "# Split into test and training data\n",
    "X_train, X_test, y_train, y_test = train_test_split(X, y_bike, test_size=0.3, random_state=42)\n",
    "\n",
    "# Check the shapes of the data\n",
    "print(X_train.shape, X_test.shape, y_train.shape, y_test.shape)"
   ]
  },
  {
   "cell_type": "code",
   "execution_count": 25,
   "metadata": {},
   "outputs": [],
   "source": [
    "# Fit the model\n",
    "model = RandomForestRegressor(n_estimators=300, random_state=42)\n",
    "RF_bike = model.fit(X_train, y_train)"
   ]
  },
  {
   "cell_type": "code",
   "execution_count": 26,
   "metadata": {},
   "outputs": [
    {
     "data": {
      "text/plain": [
       "29.79429980441965"
      ]
     },
     "execution_count": 26,
     "metadata": {},
     "output_type": "execute_result"
    }
   ],
   "source": [
    "# Predict on test set\n",
    "y_pred = RF_bike.predict(X_test)\n",
    "\n",
    "# Calculate the root mean squared error (RMSE)\n",
    "np.sqrt(mean_squared_error(y_test, y_pred))"
   ]
  },
  {
   "cell_type": "code",
   "execution_count": 27,
   "metadata": {},
   "outputs": [
    {
     "data": {
      "text/plain": [
       "48.78330292658655"
      ]
     },
     "execution_count": 27,
     "metadata": {},
     "output_type": "execute_result"
    }
   ],
   "source": [
    "np.mean(y_test)"
   ]
  },
  {
   "cell_type": "code",
   "execution_count": null,
   "metadata": {},
   "outputs": [],
   "source": []
  }
 ],
 "metadata": {
  "kernelspec": {
   "display_name": "base",
   "language": "python",
   "name": "python3"
  },
  "language_info": {
   "codemirror_mode": {
    "name": "ipython",
    "version": 3
   },
   "file_extension": ".py",
   "mimetype": "text/x-python",
   "name": "python",
   "nbconvert_exporter": "python",
   "pygments_lexer": "ipython3",
   "version": "3.11.5"
  }
 },
 "nbformat": 4,
 "nbformat_minor": 2
}
