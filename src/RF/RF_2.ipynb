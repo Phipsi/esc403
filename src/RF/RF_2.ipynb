{
 "cells": [
  {
   "cell_type": "markdown",
   "metadata": {},
   "source": [
    "# Random Forest 2\n",
    "\n",
    "Let's train a random forest on the data from 2020-2022 and test it on the data from 2023."
   ]
  },
  {
   "cell_type": "code",
   "execution_count": 2,
   "metadata": {},
   "outputs": [],
   "source": [
    "import pandas as pd\n",
    "import numpy as np\n",
    "import seaborn as sns\n",
    "import matplotlib.pyplot as plt\n",
    "import matplotlib.dates as mdates\n",
    "from sklearn.model_selection import train_test_split\n",
    "from sklearn.ensemble import RandomForestRegressor\n",
    "from sklearn.metrics import mean_squared_error, r2_score"
   ]
  },
  {
   "cell_type": "markdown",
   "metadata": {},
   "source": [
    "## Data Preparation"
   ]
  },
  {
   "cell_type": "code",
   "execution_count": 6,
   "metadata": {},
   "outputs": [
    {
     "name": "stdout",
     "output_type": "stream",
     "text": [
      "Standort            int64\n",
      "Date               object\n",
      "Time               object\n",
      "Datetime           object\n",
      "Hr [%Hr]          float64\n",
      "RainDur [min]     float64\n",
      "StrGlo [W/m2]     float64\n",
      "T [°C]            float64\n",
      "WD [°]            float64\n",
      "WVs [m/s]         float64\n",
      "WVv [m/s]         float64\n",
      "p [hPa]           float64\n",
      "Year                int64\n",
      "AnzBestWir          int64\n",
      "bezeichnung      category\n",
      "bike_tot          float64\n",
      "ped_tot           float64\n",
      "hour                int32\n",
      "month               int32\n",
      "dtype: object\n"
     ]
    },
    {
     "name": "stderr",
     "output_type": "stream",
     "text": [
      "/var/folders/m_/kjymw9sd0yn2wk8yjj853n_c0000gn/T/ipykernel_91203/2965511092.py:16: UserWarning: Could not infer format, so each element will be parsed individually, falling back to `dateutil`. To ensure parsing is consistent and as-expected, please specify a format.\n",
      "  df_train['hour'] = pd.to_datetime(df_train['Time']).dt.hour\n",
      "/var/folders/m_/kjymw9sd0yn2wk8yjj853n_c0000gn/T/ipykernel_91203/2965511092.py:18: UserWarning: Could not infer format, so each element will be parsed individually, falling back to `dateutil`. To ensure parsing is consistent and as-expected, please specify a format.\n",
      "  df_test['hour'] = pd.to_datetime(df_test['Time']).dt.hour\n"
     ]
    }
   ],
   "source": [
    "# Load the data\n",
    "df_20 = pd.read_csv('../../results/df_agg_hourly_2020.csv')\n",
    "df_21 = pd.read_csv('../../results/df_agg_hourly_2021.csv')\n",
    "df_22 = pd.read_csv('../../results/df_agg_hourly_2022.csv')\n",
    "df_23 = pd.read_csv('../../results/df_agg_hourly_2023.csv')\n",
    "\n",
    "# Concatenate the data\n",
    "df_train = pd.concat([df_20, df_21, df_22])\n",
    "df_test = df_23\n",
    "\n",
    "# Make the bezeichnung column as categorical\n",
    "df_train['bezeichnung'] = df_train['bezeichnung'].astype('category')\n",
    "df_test['bezeichnung'] = df_test['bezeichnung'].astype('category')\n",
    "\n",
    "# Extract hour from Time and month from Date\n",
    "df_train['hour'] = pd.to_datetime(df_train['Time']).dt.hour\n",
    "df_train['month'] = pd.to_datetime(df_train['Date']).dt.month\n",
    "df_test['hour'] = pd.to_datetime(df_test['Time']).dt.hour\n",
    "df_test['month'] = pd.to_datetime(df_test['Date']).dt.month\n",
    "\n",
    "# What are the columns?\n",
    "print(df_train.dtypes)"
   ]
  },
  {
   "cell_type": "code",
   "execution_count": 8,
   "metadata": {},
   "outputs": [],
   "source": [
    "# Keep only the relevant columns\n",
    "df_train_relevant = df_train.drop(['Date', 'Time', 'Datetime', 'WVs [m/s]', 'StrGlo [W/m2]', 'Standort'], axis=1)\n",
    "df_test_relevant = df_test.drop(['Date', 'Time', 'Datetime', 'WVs [m/s]', 'StrGlo [W/m2]', 'Standort'], axis=1)"
   ]
  },
  {
   "cell_type": "code",
   "execution_count": null,
   "metadata": {},
   "outputs": [],
   "source": []
  }
 ],
 "metadata": {
  "kernelspec": {
   "display_name": "base",
   "language": "python",
   "name": "python3"
  },
  "language_info": {
   "codemirror_mode": {
    "name": "ipython",
    "version": 3
   },
   "file_extension": ".py",
   "mimetype": "text/x-python",
   "name": "python",
   "nbconvert_exporter": "python",
   "pygments_lexer": "ipython3",
   "version": "3.11.5"
  }
 },
 "nbformat": 4,
 "nbformat_minor": 2
}
